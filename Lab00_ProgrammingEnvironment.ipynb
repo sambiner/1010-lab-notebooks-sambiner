{
  "nbformat": 4,
  "nbformat_minor": 0,
  "metadata": {
    "kernelspec": {
      "display_name": "Python 3",
      "language": "python",
      "name": "python3"
    },
    "language_info": {
      "codemirror_mode": {
        "name": "ipython",
        "version": 3
      },
      "file_extension": ".py",
      "mimetype": "text/x-python",
      "name": "python",
      "nbconvert_exporter": "python",
      "pygments_lexer": "ipython3",
      "version": "3.7.3"
    },
    "colab": {
      "name": "Lab00_ProgrammingEnvironment.ipynb",
      "provenance": [],
      "include_colab_link": true
    }
  },
  "cells": [
    {
      "cell_type": "markdown",
      "metadata": {
        "id": "view-in-github",
        "colab_type": "text"
      },
      "source": [
        "<a href=\"https://colab.research.google.com/github/sambiner/1010-lab-notebooks-sambiner/blob/main/Lab00_ProgrammingEnvironment.ipynb\" target=\"_parent\"><img src=\"https://colab.research.google.com/assets/colab-badge.svg\" alt=\"Open In Colab\"/></a>"
      ]
    },
    {
      "cell_type": "markdown",
      "metadata": {
        "id": "9aXfrLXg9seM"
      },
      "source": [
        "# Lab 00 Programming Environment\n",
        "***\n",
        "In this lab we will help you check that your programming enviroment is set up correctly. We will also make sure that you can write and run code in a laboratory notebook and using the command line. We will also make sure that you can save your work to GitHub from your lab notebook and the command line.\n",
        "\n",
        "## Testing your Python3 installation\n",
        "\n",
        "First, open a terminal We can test that Python 3 was installed properly by typing this command: **python3** or (**py** on Windows). **If it all works, you should see your Python version number printed out, followed by the $>>>$ prompt.** Now type the following code in the _interpreter_\n",
        "\n",
        "$>>>$ **print('Hello World!!!')**\n",
        "\n",
        "You just wrote your first line of Python code. Now to exit the interpeter type **quit()**. And then you can also exit the terminal.\n",
        "\n"
      ]
    },
    {
      "cell_type": "markdown",
      "metadata": {
        "id": "hr1YFqboGVCm"
      },
      "source": [
        "## Using this Jupyter Notebook\n",
        "For labs during class you will use Jupyter notebooks such as this one. Jupyter notebooks have the file extension _.ipynb_ at the end. You can open, run, and edit Jupyter notebooks in Google Colaboratory as we are doing now and will do for every lab. Jupyter notebooks provide online environment that supports these cells for text and other cells for writing code, like the next one below. In the following cell, write the same one line program that you did in the terminal above. Then press the arrow next to the cell to run the code. You will see the results right below the cell."
      ]
    },
    {
      "cell_type": "code",
      "metadata": {
        "id": "VA0C-y1O9seO",
        "colab": {
          "base_uri": "https://localhost:8080/"
        },
        "outputId": "344ebb57-37cd-49b7-e3cb-7827f8693303"
      },
      "source": [
        "# Write the same program as you wrote in the terminal for Hello World!!!\n",
        "# You can write comments by putting the symbol at the start of the line to turn the entire line into a comment\n",
        "\"\"\"\n",
        "You can write comments on multiple lines by placing the text between the lines of quotation marks\n",
        "This cell does nothing now until you write some code below...\n",
        "\"\"\"\n",
        "\n",
        "print('Hello World')"
      ],
      "execution_count": 1,
      "outputs": [
        {
          "output_type": "stream",
          "name": "stdout",
          "text": [
            "Hello World\n"
          ]
        }
      ]
    },
    {
      "cell_type": "markdown",
      "metadata": {
        "id": "uik2FUei__qM"
      },
      "source": [
        "Now it's your turn to change this notebook. Below this cell, add a text cell by clicking on the '+Text' button at the top of this notebook. You can add whatever text you would like. Then below that cell, add a cell of code by clicking the '+Code' button at the top of this notebook. Write code to print your name in that cell and run the code."
      ]
    },
    {
      "cell_type": "markdown",
      "metadata": {
        "id": "ey2QzqWR9seO"
      },
      "source": [
        "---\n",
        "# Using GitHub\n",
        "\n",
        "There are several ways that we can use GitHub, but for now we will work on using it through the web browser and the command line with git. \n",
        "\n",
        "## Using GitHub with Google Colaboratory\n",
        "First, log into github.com using the GitHub account that you are using for this class if you have not done so already. Among your repositories you should see a repository named **1010-lab-notebooks-MY_GITHUB_ID**. It will be empty, but we will change that now. Go to the _File menu_ above on this notebook and select _Save to GitHub_. From the menu select your 1010-lab-notebooks repository. (Remember to make sure private repositories are permitted.) Once you have saved this notebook using the file menu, click on your 1010-lab-notebook in GitHub and you should see a copy of this file.\n",
        "\n",
        "## Using GitHub and the Terminal\n",
        "\n",
        "Now let's try this with the command line git. Open up a terminal. Inside the terminal type the following commands:\n",
        "\n",
        "    git clone https://github.com/lmu-cmsi1010-fall2021/1010-lab-notebooks-MY_GITHUB_ID\n",
        "\n",
        "`MY_GITHUB_ID` should be your GitHub username. Whenever you would like to make a local copy of a repository, use **git clone** followed by the URL of the repository.\n",
        "\n",
        "Now type the command **ls** to list the contents of your current directory. You should see a new folder or directory named 1010-lab-notebooks-MY_GITHUB_ID. To change into this new directory type the command, cd, for change directory:\n",
        "\n",
        "    cd 1010-lab-notebooks-MY_GITHUB_ID\n",
        "\n",
        "Now type the **ls** command and you should see a copy of this notebook in that directory."
      ]
    },
    {
      "cell_type": "markdown",
      "metadata": {
        "id": "qFnZTcOVBWPq"
      },
      "source": [
        "### Using the editor to write code and running code on the command line\n",
        "Using your editor of choice, open a file called 'helloworld.py'\n",
        "In that file write the one line program you have written above to print hello world to the screen. Save the file and exit the editor. The file helloworld.py is a python script. Python scripts use the extension _.py_.\n",
        "\n",
        "To run your program type **python3 helloworld.py**. You can use python to run any script you write by using the correct Python script file name with the _.py_ extension."
      ]
    },
    {
      "cell_type": "markdown",
      "metadata": {
        "id": "3rS8BrRCDquP"
      },
      "source": [
        "## Saving your work to GitHub from the command line\n",
        "\n",
        "In order to submit your code written on the command line you must add it to your repository. To do so type  **git add helloworld.py**\n",
        "\n",
        "This adds the file to your repository, but it is not on GitHub yet. (You can check your repository in the web browser to verify this.)  Next you must commit whatever work that you want to add. To do so type type **git commit -m \"any comment you'd like\" helloworld.py**. This confirms the changes that you have made to the repository, but it does not appear on your repository yet. (Again check in your web browser.)\n",
        "\n",
        "Finally you must push your work to Github. To do so, type **git push**. After doing this, verify that you can see the file helloworld.py in your repository using your web browser."
      ]
    },
    {
      "cell_type": "markdown",
      "metadata": {
        "id": "dKL0LYd-E4JB"
      },
      "source": [
        "### Reflections\n",
        "Add a text cell below to answer the following questions:\n",
        "1. What do you feel more confident about after completing this lab?\n",
        "2. What do you feel you can use more help with after completing this lab?\n",
        "3. Do you have any constructive suggestions on how we can help you or improve this lab?"
      ]
    },
    {
      "cell_type": "markdown",
      "metadata": {
        "id": "gB1aHDpyFYey"
      },
      "source": [
        "### Save your work to GitHub\n",
        "A great mantra for working with GitHub is \"Save early, and save often!\" You may want to do that working on your homework assignments as GitHub will have copies of your work regardless of what happens locally. (You can always use **git pull** to get work from a repository that has been cloned already.)  It is also helpful during labs. Please save this notebook to your lab repository one more time."
      ]
    }
  ]
}